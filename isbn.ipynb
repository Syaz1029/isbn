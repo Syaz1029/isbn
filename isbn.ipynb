{
  "nbformat": 4,
  "nbformat_minor": 0,
  "metadata": {
    "colab": {
      "provenance": []
    },
    "kernelspec": {
      "name": "python3",
      "display_name": "Python 3"
    },
    "language_info": {
      "name": "python"
    }
  },
  "cells": [
    {
      "cell_type": "markdown",
      "source": [
        "3rd"
      ],
      "metadata": {
        "id": "3-LRQT_czpNU"
      }
    },
    {
      "cell_type": "code",
      "source": [
        "pip install pandas openpyxl requests"
      ],
      "metadata": {
        "colab": {
          "base_uri": "https://localhost:8080/"
        },
        "id": "05Skp5cbz8yF",
        "outputId": "7d68f720-e543-42ae-e3f8-2cc9537a0fd7"
      },
      "execution_count": 1,
      "outputs": [
        {
          "output_type": "stream",
          "name": "stdout",
          "text": [
            "Requirement already satisfied: pandas in /usr/local/lib/python3.10/dist-packages (1.5.3)\n",
            "Requirement already satisfied: openpyxl in /usr/local/lib/python3.10/dist-packages (3.1.2)\n",
            "Requirement already satisfied: requests in /usr/local/lib/python3.10/dist-packages (2.31.0)\n",
            "Requirement already satisfied: python-dateutil>=2.8.1 in /usr/local/lib/python3.10/dist-packages (from pandas) (2.8.2)\n",
            "Requirement already satisfied: pytz>=2020.1 in /usr/local/lib/python3.10/dist-packages (from pandas) (2023.4)\n",
            "Requirement already satisfied: numpy>=1.21.0 in /usr/local/lib/python3.10/dist-packages (from pandas) (1.25.2)\n",
            "Requirement already satisfied: et-xmlfile in /usr/local/lib/python3.10/dist-packages (from openpyxl) (1.1.0)\n",
            "Requirement already satisfied: charset-normalizer<4,>=2 in /usr/local/lib/python3.10/dist-packages (from requests) (3.3.2)\n",
            "Requirement already satisfied: idna<4,>=2.5 in /usr/local/lib/python3.10/dist-packages (from requests) (3.6)\n",
            "Requirement already satisfied: urllib3<3,>=1.21.1 in /usr/local/lib/python3.10/dist-packages (from requests) (2.0.7)\n",
            "Requirement already satisfied: certifi>=2017.4.17 in /usr/local/lib/python3.10/dist-packages (from requests) (2024.2.2)\n",
            "Requirement already satisfied: six>=1.5 in /usr/local/lib/python3.10/dist-packages (from python-dateutil>=2.8.1->pandas) (1.16.0)\n"
          ]
        }
      ]
    },
    {
      "cell_type": "code",
      "source": [
        "import pandas as pd\n",
        "import requests\n",
        "\n",
        "# Function to get book details from Google Books API\n",
        "def get_book_details(isbn):\n",
        "    api_url = f'https://www.googleapis.com/books/v1/volumes?q=isbn:{isbn}'\n",
        "    response = requests.get(api_url)\n",
        "\n",
        "    if response.status_code == 200:\n",
        "        book_info = response.json().get('items', [{}])[0].get('volumeInfo', {})\n",
        "        title = book_info.get('title', 'Not Available')\n",
        "        authors = ', '.join(book_info.get('authors', ['Not Available']))\n",
        "        return title, authors\n",
        "    else:\n",
        "        return 'Not Available', 'Not Available'\n",
        "\n",
        "# Read Excel file\n",
        "excel_file_path = '/content/drive/MyDrive/isbn.xlsx'\n",
        "df = pd.read_excel(excel_file_path)\n",
        "\n",
        "# Create new columns for Title and Author\n",
        "df['Title'], df['Author'] = zip(*df['ISBN'].apply(get_book_details).tolist())\n",
        "\n",
        "# Write the updated DataFrame to a new Excel file\n",
        "output_excel_path = '/content/drive/MyDrive/output_result3.xlsx'\n",
        "df.to_excel(output_excel_path, index=False, engine='openpyxl')\n",
        "\n",
        "print(f\"Book details extracted and saved to {output_excel_path}\")\n"
      ],
      "metadata": {
        "colab": {
          "base_uri": "https://localhost:8080/"
        },
        "id": "-0k8RNcDz98s",
        "outputId": "fb790a0c-7bc4-47ff-ca60-8fc52726a57d"
      },
      "execution_count": 2,
      "outputs": [
        {
          "output_type": "stream",
          "name": "stdout",
          "text": [
            "Book details extracted and saved to /content/drive/MyDrive/output_result3.xlsx\n"
          ]
        }
      ]
    }
  ]
}